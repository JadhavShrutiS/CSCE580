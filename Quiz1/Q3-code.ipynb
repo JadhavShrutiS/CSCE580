{
 "cells": [
  {
   "cell_type": "markdown",
   "id": "1efe8ce4",
   "metadata": {},
   "source": [
    "This is the code for Q3 of Quiz 1- Shruti Jadhav"
   ]
  },
  {
   "cell_type": "markdown",
   "id": "53122ae3",
   "metadata": {},
   "source": [
    "First the csv file is downloaded to working directory and the data is set up."
   ]
  },
  {
   "cell_type": "code",
   "execution_count": 2,
   "id": "bf7d49d7",
   "metadata": {},
   "outputs": [
    {
     "name": "stdout",
     "output_type": "stream",
     "text": [
      "<class 'pandas.core.frame.DataFrame'>\n",
      "RangeIndex: 2200 entries, 0 to 2199\n",
      "Data columns (total 8 columns):\n",
      " #   Column                 Non-Null Count  Dtype \n",
      "---  ------                 --------------  ----- \n",
      " 0   XREF ID                2200 non-null   int64 \n",
      " 1   DISPATCH UNIT          2200 non-null   object\n",
      " 2   DISPATCH CREATED DATE  2200 non-null   object\n",
      " 3   INCIDENT NUMBER        2200 non-null   object\n",
      " 4   1ST UNIT ON SCENE      1772 non-null   object\n",
      " 5   ALARM DATE TIME        2169 non-null   object\n",
      " 6   CALL COMPLETE          2169 non-null   object\n",
      " 7   SHIFT                  2131 non-null   object\n",
      "dtypes: int64(1), object(7)\n",
      "memory usage: 137.6+ KB\n"
     ]
    }
   ],
   "source": [
    "#import modules\n",
    "import pandas as pd\n",
    "import numpy as np\n",
    "import matplotlib.pyplot as plt\n",
    "from datetime import datetime\n",
    "from dateutil import parser\n",
    "\n",
    "datadir = 'C:/Shruti/College/Semesters/Fall 2025/CSCE580/Quiz1/'\n",
    "datafile = datadir + \"Redacted-Department _ CAD Reconciliation.csv\"\n",
    "data = pd.read_csv(datafile)\n",
    "\n",
    "data.head()\n",
    "data.info()"
   ]
  },
  {
   "cell_type": "markdown",
   "id": "2fac4532",
   "metadata": {},
   "source": [
    "A) DATA ISSUES"
   ]
  },
  {
   "cell_type": "code",
   "execution_count": 4,
   "id": "a39fa178",
   "metadata": {},
   "outputs": [
    {
     "name": "stdout",
     "output_type": "stream",
     "text": [
      "Range is from 3/24/25 15:54 to 8/31/25 23:03\n"
     ]
    }
   ],
   "source": [
    "#a1) What is the range of data for the cases?\n",
    "dispatch_created_date = data['DISPATCH CREATED DATE']\n",
    "print(f\"Range is from {dispatch_created_date[0]} to {dispatch_created_date.iloc[-1]}\")"
   ]
  },
  {
   "cell_type": "code",
   "execution_count": 5,
   "id": "86c8643d",
   "metadata": {},
   "outputs": [
    {
     "name": "stdout",
     "output_type": "stream",
     "text": [
      "Percent missing data by column\n",
      "XREF ID\n",
      "0.0\n",
      "DISPATCH UNIT\n",
      "0.0\n",
      "DISPATCH CREATED DATE\n",
      "0.0\n",
      "INCIDENT NUMBER\n",
      "0.0\n",
      "1ST UNIT ON SCENE\n",
      "19.454545454545453\n",
      "ALARM DATE TIME\n",
      "1.4090909090909092\n",
      "CALL COMPLETE\n",
      "1.4090909090909092\n",
      "SHIFT\n",
      "3.1363636363636362\n"
     ]
    }
   ],
   "source": [
    "#a2) % of missing data\n",
    "percent_missing = dispatch_created_date.isnull().sum() * 100 / len(dispatch_created_date)\n",
    "\n",
    "print(\"Percent missing data by column\")\n",
    "for column in data.columns:\n",
    "    print(column)\n",
    "    print(data[column].isnull().sum()*100/len(data[column]))"
   ]
  },
  {
   "cell_type": "markdown",
   "id": "ac1eea98",
   "metadata": {},
   "source": [
    "a3) What are some data issues present? How can they be resolved?\n",
    "\n",
    "Answer: Some data issues present are: More than one unit dispatched at a time- inconsistent size of data. Additionally, dispatch created date appear to be different sizes when looking at the data. Since it is all encapsulated in data type of object, it has to be properly converted back to date-time format. Plus, there is missing data for shifts, as well as 1st unit on scene. This must be resolved by filling in NAN or \"unknown\" as there can be no intuition to impute any median values."
   ]
  },
  {
   "cell_type": "markdown",
   "id": "1baca2aa",
   "metadata": {},
   "source": [
    "a4) Resolve data issues and clean data What is your strategy?\n",
    "\n",
    "Answer: For the \"1st UNIT ON SCENE\" missing information, I have decided to fill in the empty values with an 'unknown' as I wish to keep information from this column. I do not want to drop the missing values for this column because there is almost 20% of data missing here- dropping would mean losing around 800 rows of data required that can guide further analysis. For the \"ALARM DATE TIME\" and \"CALL COMPLETE\" column I have decided to drop/omit the data with the missing values, because these only have 1.5% of missing data each therefore dropping them will not reduce my dataset or affect my analysis significantly. Lastly, for the \"SHIFT\" column, I have decided to fill in the missing data with an 'unknown' because while only 3% data is missing, dropping it does not significantly help me in any way or reduce my complexity in analyzing that column as the only other data in \"SHIFT\" is either A,B or C."
   ]
  },
  {
   "cell_type": "markdown",
   "id": "1a34a261",
   "metadata": {},
   "source": [
    "B)  EXPLORATORY DATA ANALYSIS"
   ]
  },
  {
   "cell_type": "code",
   "execution_count": 8,
   "id": "3ddf63ae",
   "metadata": {},
   "outputs": [
    {
     "name": "stderr",
     "output_type": "stream",
     "text": [
      "C:\\Users\\shrut\\AppData\\Local\\Temp\\ipykernel_131752\\128580416.py:6: UserWarning: Could not infer format, so each element will be parsed individually, falling back to `dateutil`. To ensure parsing is consistent and as-expected, please specify a format.\n",
      "  call_complete = pd.to_datetime(call_complete)\n",
      "C:\\Users\\shrut\\AppData\\Local\\Temp\\ipykernel_131752\\128580416.py:7: UserWarning: Could not infer format, so each element will be parsed individually, falling back to `dateutil`. To ensure parsing is consistent and as-expected, please specify a format.\n",
      "  alarm_date_time = pd.to_datetime(alarm_date_time)\n"
     ]
    },
    {
     "name": "stdout",
     "output_type": "stream",
     "text": [
      "Average time between alarm date time to call complete: 90 days 18:28:08.907330567 \n"
     ]
    }
   ],
   "source": [
    "#b1) On an average, in how much time is a call resolved since it is created to when it is closed?\n",
    "#average time between alarm date time to call complete*\n",
    "call_complete = data['CALL COMPLETE']\n",
    "alarm_date_time = data['ALARM DATE TIME']\n",
    "\n",
    "call_complete = pd.to_datetime(call_complete) \n",
    "alarm_date_time = pd.to_datetime(alarm_date_time)\n",
    "\n",
    "time_diff=call_complete-alarm_date_time \n",
    "\n",
    "print(f\"Average time between alarm date time to call complete: {time_diff.mean()} \")"
   ]
  },
  {
   "cell_type": "code",
   "execution_count": 9,
   "id": "da3abc4a",
   "metadata": {},
   "outputs": [
    {
     "name": "stdout",
     "output_type": "stream",
     "text": [
      "1.440909090909091 fire units, on average, are sent for a fire alarm\n"
     ]
    }
   ],
   "source": [
    "#b2) how many fire units on average are sent fora fire alarm\n",
    "dispatch_unit = data['DISPATCH UNIT']\n",
    "split_units = dispatch_unit.str.split(\",\")\n",
    "unit_count = split_units.explode().count()\n",
    "fire_unit_avg = unit_count/len(dispatch_unit)\n",
    "print(f\"{fire_unit_avg} fire units, on average, are sent for a fire alarm\")"
   ]
  },
  {
   "cell_type": "code",
   "execution_count": 10,
   "id": "2f71a6df",
   "metadata": {},
   "outputs": [
    {
     "name": "stdout",
     "output_type": "stream",
     "text": [
      "A shift is the busiest\n"
     ]
    }
   ],
   "source": [
    "#b3) which shift is the busiest\n",
    "busy = data['SHIFT'].value_counts().idxmax()\n",
    "print(f\"{busy} shift is the busiest\")"
   ]
  },
  {
   "cell_type": "code",
   "execution_count": 13,
   "id": "b012fd7d",
   "metadata": {},
   "outputs": [
    {
     "name": "stdout",
     "output_type": "stream",
     "text": [
      "Days                Monday  Tuesday  Wednesday  Thursday  Friday  Saturday  \\\n",
      "Hours                                                                        \n",
      "0.0                      8        7          5         2       3         7   \n",
      "1.0                      9       10          7         8       4         7   \n",
      "2.0                      5        4          3         3       3         8   \n",
      "3.0                      9        9          9         1      10         5   \n",
      "4.0                      3        4          5         2       7         6   \n",
      "5.0                      9        3          6         5       5         3   \n",
      "6.0                      5        5          7         7      11         7   \n",
      "7.0                     14       15          9        10      14         5   \n",
      "8.0                     13       14         18        10       7         6   \n",
      "9.0                     10       17         14        14      16        12   \n",
      "10.0                    20       24         18        15      13        15   \n",
      "11.0                    21       18         14        23      20        15   \n",
      "12.0                    17       16         16        22      27        14   \n",
      "13.0                    18       14         14        14      15        17   \n",
      "14.0                    22       25         17        20      19        18   \n",
      "15.0                    19       22         27        25      17        17   \n",
      "16.0                    22       20         12        21      18        13   \n",
      "17.0                    27       14         18        12      25        17   \n",
      "18.0                    20       21         24        22      14        15   \n",
      "19.0                    18       12         21        17      17        19   \n",
      "20.0                    18       13         24        16      14        23   \n",
      "21.0                    14       15         11        12      12        16   \n",
      "22.0                     4       12         17         8      13        19   \n",
      "23.0                    11        7          9         8       9        19   \n",
      "Count of Incidents     336      321        325       297     313       303   \n",
      "\n",
      "Days                Sunday  Total  \n",
      "Hours                              \n",
      "0.0                      4     36  \n",
      "1.0                     10     55  \n",
      "2.0                     10     36  \n",
      "3.0                      7     50  \n",
      "4.0                      4     31  \n",
      "5.0                      7     38  \n",
      "6.0                      9     51  \n",
      "7.0                     11     78  \n",
      "8.0                     14     82  \n",
      "9.0                     14     97  \n",
      "10.0                    11    116  \n",
      "11.0                    10    121  \n",
      "12.0                    18    130  \n",
      "13.0                    21    113  \n",
      "14.0                    13    134  \n",
      "15.0                    18    145  \n",
      "16.0                    11    117  \n",
      "17.0                    16    129  \n",
      "18.0                    13    129  \n",
      "19.0                    12    116  \n",
      "20.0                    12    120  \n",
      "21.0                     8     88  \n",
      "22.0                    15     88  \n",
      "23.0                     6     69  \n",
      "Count of Incidents     274   2169  \n"
     ]
    }
   ],
   "source": [
    "#b4) create a matrix: day of week(x axis) vs hour of day(y-axis) with row and column totals.\n",
    "alarm_day = alarm_date_time.dt.day_name()\n",
    "alarm_hour = alarm_date_time.dt.hour\n",
    "\n",
    "df = pd.DataFrame()\n",
    "df['Days'] = alarm_day\n",
    "df['Hours'] = alarm_hour\n",
    "\n",
    "matrix = df.pivot_table(index=\"Hours\",columns=\"Days\",aggfunc=\"size\",fill_value=0)\n",
    "matrix = matrix.reindex(columns=[\"Monday\",\"Tuesday\",\"Wednesday\",\"Thursday\",\"Friday\",\"Saturday\",\"Sunday\"], fill_value=0)\n",
    "\n",
    "matrix[\"Total\"] = matrix.sum(axis=1)\n",
    "matrix.loc[\"Count of Incidents\"] = matrix.sum(axis=0)\n",
    "\n",
    "print(matrix)"
   ]
  },
  {
   "cell_type": "markdown",
   "id": "aae6a92c",
   "metadata": {},
   "source": [
    "C) UNSUPERVISED LEARNING"
   ]
  },
  {
   "cell_type": "code",
   "execution_count": 32,
   "id": "55b33473",
   "metadata": {},
   "outputs": [
    {
     "name": "stdout",
     "output_type": "stream",
     "text": [
      "[[ 0. 15.]\n",
      " [ 0. 17.]\n",
      " [ 0. 21.]\n",
      " ...\n",
      " [ 6. 15.]\n",
      " [ 6. 16.]\n",
      " [ 6. 22.]]\n"
     ]
    }
   ],
   "source": [
    "#c1) Cluster the data based on any two methods in sci-kit and report on their cluster quality. Which method performs better?\n",
    "from sklearn.cluster import KMeans\n",
    "from numpy import where, unique\n",
    "from sklearn import metrics\n",
    "from sklearn.impute import SimpleImputer\n",
    "\n",
    "df = pd.DataFrame()\n",
    "df['Days'] = alarm_date_time.dt.weekday\n",
    "df['Hours'] = alarm_hour\n",
    "\n",
    "X = df.values\n",
    "\n",
    "# Due to some nan values present in X\n",
    "imputer = SimpleImputer(missing_values=np.nan, strategy='mean') # or 'median', 'most_frequent'\n",
    "X = imputer.fit_transform(X)\n",
    "\n",
    "num_clusters = 3\n",
    "\n",
    "print(X)"
   ]
  },
  {
   "cell_type": "code",
   "execution_count": 33,
   "id": "6480b4d6",
   "metadata": {},
   "outputs": [],
   "source": [
    "def cluster_predict_show(model, X, y):\n",
    "    \n",
    "    # Fit the model\n",
    "    m = model.fit(X)\n",
    "    \n",
    "    # assign a cluster to each example\n",
    "    yhat = model.predict(X)\n",
    "    \n",
    "    # Silhoutte score - higher is a better cluster\n",
    "    print (\"silhouette_score = \", metrics.silhouette_score(X, m.labels_, metric='euclidean'))\n",
    "    \n",
    "    print(\"davies_bouldin_score = \",metrics.davies_bouldin_score(X, m.labels_))\n",
    "\n",
    "\n",
    "    # retrieve unique clusters\n",
    "    clusters = unique(yhat)\n",
    "\n",
    "    # create scatter plot for samples from each cluster\n",
    "    for cluster in clusters:\n",
    "\n",
    "        # get row indexes for samples with this cluster\n",
    "        row_ix = where(yhat == cluster)\n",
    "\n",
    "        # create scatter of these samples\n",
    "        plt.scatter(X[row_ix, 0], X[row_ix, 1])\n",
    "\n",
    "    # show the plot\n",
    "    plt.show()"
   ]
  },
  {
   "cell_type": "markdown",
   "id": "26e07e54",
   "metadata": {},
   "source": [
    "First clustering method using Kmeans:"
   ]
  },
  {
   "cell_type": "code",
   "execution_count": 34,
   "id": "9f7bda6d",
   "metadata": {},
   "outputs": [
    {
     "name": "stderr",
     "output_type": "stream",
     "text": [
      "C:\\Users\\shrut\\anaconda3\\Lib\\site-packages\\sklearn\\cluster\\_kmeans.py:1412: FutureWarning: The default value of `n_init` will change from 10 to 'auto' in 1.4. Set the value of `n_init` explicitly to suppress the warning\n",
      "  super()._check_params_vs_input(X, default_n_init=10)\n",
      "C:\\Users\\shrut\\anaconda3\\Lib\\site-packages\\sklearn\\cluster\\_kmeans.py:1436: UserWarning: KMeans is known to have a memory leak on Windows with MKL, when there are less chunks than available threads. You can avoid it by setting the environment variable OMP_NUM_THREADS=9.\n",
      "  warnings.warn(\n"
     ]
    },
    {
     "name": "stdout",
     "output_type": "stream",
     "text": [
      "silhouette_score =  0.4382384741575005\n",
      "davies_bouldin_score =  0.766445768446166\n"
     ]
    },
    {
     "data": {
      "image/png": "[encoded data removed]",
      "text/plain": [
       "<Figure size 640x480 with 1 Axes>"
      ]
     },
     "metadata": {},
     "output_type": "display_data"
    }
   ],
   "source": [
    "from sklearn.cluster import KMeans\n",
    "model = KMeans(n_clusters=num_clusters)\n",
    "cluster_predict_show(model, X, 0)"
   ]
  },
  {
   "cell_type": "code",
   "execution_count": 35,
   "id": "ca25b86b",
   "metadata": {},
   "outputs": [],
   "source": [
    "def cluster_fitpredict_show(model, X, y):\n",
    "    \n",
    "    # assign a cluster to each example\n",
    "    yhat = model.fit_predict(X)\n",
    "    \n",
    "    # Silhoutte score - higher is a better cluster\n",
    "    print (\"silhouette-score = \", metrics.silhouette_score(X, yhat, metric='euclidean'))\n",
    "    print(\"davies_bouldin_score = \",metrics.davies_bouldin_score(X, yhat))\n",
    "\n",
    "\n",
    "    # retrieve unique clusters\n",
    "    clusters = unique(yhat)\n",
    "\n",
    "    # create scatter plot for samples from each cluster\n",
    "    for cluster in clusters:\n",
    "\n",
    "        # get row indexes for samples with this cluster\n",
    "        row_ix = where(yhat == cluster)\n",
    "\n",
    "        # create scatter of these samples\n",
    "        plt.scatter(X[row_ix, 0], X[row_ix, 1])\n",
    "\n",
    "    # show the plot\n",
    "    plt.show()"
   ]
  },
  {
   "cell_type": "markdown",
   "id": "69d49dea",
   "metadata": {},
   "source": [
    "Second Clustering method using DBSCAN"
   ]
  },
  {
   "cell_type": "code",
   "execution_count": 38,
   "id": "ed2a1eb4",
   "metadata": {},
   "outputs": [
    {
     "name": "stdout",
     "output_type": "stream",
     "text": [
      "silhouette-score =  0.9554336476586732\n",
      "davies_bouldin_score =  0.7737445125486428\n"
     ]
    },
    {
     "data": {
      "image/png": "[encoded data removed]",
      "text/plain": [
       "<Figure size 640x480 with 1 Axes>"
      ]
     },
     "metadata": {},
     "output_type": "display_data"
    }
   ],
   "source": [
    "from sklearn.cluster import DBSCAN\n",
    "model = DBSCAN(eps=0.4, min_samples=5)\n",
    "cluster_fitpredict_show(model, X, 0)"
   ]
  },
  {
   "cell_type": "markdown",
   "id": "16780cf7",
   "metadata": {},
   "source": [
    "I would like to perform one more clustering using the agglomerative clustering method, just to compare performance:"
   ]
  },
  {
   "cell_type": "code",
   "execution_count": 37,
   "id": "396e99c2",
   "metadata": {},
   "outputs": [
    {
     "name": "stdout",
     "output_type": "stream",
     "text": [
      "silhouette-score =  0.4039281457814318\n",
      "davies_bouldin_score =  0.7093366117153485\n"
     ]
    },
    {
     "data": {
      "image/png": "[encoded data removed]",
      "text/plain": [
       "<Figure size 640x480 with 1 Axes>"
      ]
     },
     "metadata": {},
     "output_type": "display_data"
    }
   ],
   "source": [
    "from sklearn.cluster import AgglomerativeClustering\n",
    "model = AgglomerativeClustering(n_clusters=num_clusters)\n",
    "cluster_fitpredict_show(model, X, 0)"
   ]
  },
  {
   "cell_type": "markdown",
   "id": "9478a0e6",
   "metadata": {},
   "source": [
    "Discussion: \n",
    "\n",
    "Question: Which method performs better?\n",
    "\n",
    "Answer: Firstly, I have chosen to compare 3 methods. The silhouette score (higher the better) and davies bouldin score(lower the better) can dictate how well these perfom. the davies bouldin score is similar across the three methods however the DBSCAN has the highest silhouette score. Therefore in terms of metrics, method 2, DBSCAN, performs better."
   ]
  },
  {
   "cell_type": "markdown",
   "id": "c5a6af44",
   "metadata": {},
   "source": [
    "c2) Using the best result, try to interpret (label) the clusters. What do they represent? \n",
    "\n",
    "Answer: if we compare the DBSCAN data to our data table, we can infer that the DBSCAN creates clusters across the density of the frequency of the alarm calls, for example: similar number of alarm calls are grouped together. The parameter of minimum sample size heavily dictates these density regions(and the silhouette score). These other two methods (Kmeans and Agglomerative Clustering) cluster on completely different basis: they clusters across hours of the day, splitting the day into different freqeuncy regions."
   ]
  },
  {
   "cell_type": "code",
   "execution_count": null,
   "id": "b90bb65e",
   "metadata": {},
   "outputs": [],
   "source": []
  }
 ],
 "metadata": {
  "kernelspec": {
   "display_name": "Python 3 (ipykernel)",
   "language": "python",
   "name": "python3"
  },
  "language_info": {
   "codemirror_mode": {
    "name": "ipython",
    "version": 3
   },
   "file_extension": ".py",
   "mimetype": "text/x-python",
   "name": "python",
   "nbconvert_exporter": "python",
   "pygments_lexer": "ipython3",
   "version": "3.11.5"
  }
 },
 "nbformat": 4,
 "nbformat_minor": 5
}
